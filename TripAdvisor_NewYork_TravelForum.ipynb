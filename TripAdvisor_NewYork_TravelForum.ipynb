{
  "nbformat": 4,
  "nbformat_minor": 0,
  "metadata": {
    "colab": {
      "name": "TripAdvisor_NewYork_TravelForum.ipynb",
      "provenance": []
    },
    "kernelspec": {
      "name": "python3",
      "display_name": "Python 3"
    },
    "language_info": {
      "name": "python"
    }
  },
  "cells": [
    {
      "cell_type": "code",
      "metadata": {
        "id": "aALWWOzhlm_R"
      },
      "source": [
        "!pip install selenium\n",
        "!apt-get update # to update ubuntu to correctly run apt install\n",
        "!apt install chromium-chromedriver\n",
        "!cp /usr/lib/chromium-browser/chromedriver /usr/bin\n",
        "import sys\n",
        "sys.path.insert(0,'/usr/lib/chromium-browser/chromedriver')\n",
        "from selenium import webdriver\n",
        "chrome_options = webdriver.ChromeOptions()\n",
        "chrome_options.add_argument('--headless')\n",
        "chrome_options.add_argument('--no-sandbox')\n",
        "chrome_options.add_argument('--disable-dev-shm-usage')"
      ],
      "execution_count": null,
      "outputs": []
    },
    {
      "cell_type": "code",
      "metadata": {
        "id": "HLkyFrxylqMi"
      },
      "source": [
        "url='https://www.tripadvisor.com/ShowForum-g60763-i5-New_York_City_New_York.html'\n"
      ],
      "execution_count": null,
      "outputs": []
    },
    {
      "cell_type": "code",
      "metadata": {
        "id": "C0gx_5fKlqZh"
      },
      "source": [
        "def get_blog_links(url):\n",
        "  wd= webdriver.Chrome('chromedriver',chrome_options=chrome_options)\n",
        "  wd.get(url)\n",
        "\n",
        "  blog_links=[anchor_tag.get_attribute('href') for anchor_tag in wd.find_elements_by_xpath(\"//a[contains(@onclick,'setPID(34603)')]\")]\n",
        "\n",
        "  return blog_links\n",
        "\n",
        "\n",
        "def next_page_url(url):\n",
        "  wd= webdriver.Chrome('chromedriver',chrome_options=chrome_options)\n",
        "  wd.get(url)\n",
        "\n",
        "  temp_pg=wd.find_elements_by_xpath(\"//a[@class='guiArw sprite-pageNext']\")\n",
        "  pg_url=temp_pg[0].get_attribute('href')\n",
        "\n",
        "  return pg_url\n",
        "\n",
        "def get_text_from_link(url):\n",
        "  wd= webdriver.Chrome('chromedriver',chrome_options=chrome_options)\n",
        "  wd.get(url)\n",
        "\n",
        "  txt_containers=wd.find_elements_by_xpath(\"//div[@class= 'postBody']\")\n",
        "\n",
        "  txt=[i.text for i in txt_containers]\n",
        "\n",
        "  return txt\n"
      ],
      "execution_count": null,
      "outputs": []
    },
    {
      "cell_type": "code",
      "metadata": {
        "id": "WElow2s6lqf4"
      },
      "source": [
        "### Collect blog links \n",
        "\n",
        "lt_links=[]\n",
        "parent_url=url\n",
        "\n",
        "while len(lt_links)<500:\n",
        "\n",
        "  temp_lt_links=get_blog_links(parent_url)\n",
        "  lt_links += temp_lt_links\n",
        "\n",
        "  parent_url=next_page_url(parent_url)"
      ],
      "execution_count": null,
      "outputs": []
    },
    {
      "cell_type": "code",
      "metadata": {
        "id": "Dfi_uowzlqld"
      },
      "source": [
        "## Colect Text\n",
        "forum_txt=[]\n",
        "\n",
        "for lk in lt_links:\n",
        "  temp_txt=get_text_from_link(lk)\n",
        "  forum_txt.append(temp_txt)\n",
        "\n",
        "\n",
        "\n",
        "\n",
        "\n",
        "\n",
        "\n",
        "\n"
      ],
      "execution_count": null,
      "outputs": []
    },
    {
      "cell_type": "code",
      "metadata": {
        "id": "miiNXfINlqqS"
      },
      "source": [
        ""
      ],
      "execution_count": null,
      "outputs": []
    },
    {
      "cell_type": "code",
      "metadata": {
        "id": "hP1b2Ne2lqus"
      },
      "source": [
        ""
      ],
      "execution_count": null,
      "outputs": []
    },
    {
      "cell_type": "code",
      "metadata": {
        "id": "JiG84XMjlqyw"
      },
      "source": [
        ""
      ],
      "execution_count": null,
      "outputs": []
    }
  ]
}